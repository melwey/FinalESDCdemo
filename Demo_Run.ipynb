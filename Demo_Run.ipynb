{
 "cells": [
  {
   "cell_type": "markdown",
   "metadata": {},
   "source": [
    "# DeepCube Earth System Data Cube functionalities \n",
    "This notebook is a demonstration of some functionalities of the Earth System Data Cube technology  developed in the context of Horizon2020 project DeepCube and prepared for the final review meeting.\n",
    "\n",
    "The tools are developed in [Julia](https://julialang.org/), a high-performance and versatile scientific programming language. This Jupyter notebook must hence be run with a Julia kernel, preferably with Julia 1.10.0."
   ]
  },
  {
   "cell_type": "code",
   "execution_count": 3,
   "metadata": {},
   "outputs": [
    {
     "name": "stderr",
     "output_type": "stream",
     "text": [
      "\u001b[32m\u001b[1m  Activating\u001b[22m\u001b[39m project at `/Net/Groups/BGI/people/fgans/DeepCube/FinalESDCdemo`\n"
     ]
    }
   ],
   "source": [
    "using Pkg; Pkg.activate(\".\")"
   ]
  },
  {
   "cell_type": "markdown",
   "metadata": {},
   "source": [
    "When running the notebook for the first time, after activating the environment in the cell above, the cell below needs to be run to instantiate the aforementioned environment in order to install all required packages and their dependencies."
   ]
  },
  {
   "cell_type": "code",
   "execution_count": null,
   "metadata": {},
   "outputs": [],
   "source": [
    "using Pkg; Pkg.instantiate()"
   ]
  },
  {
   "cell_type": "markdown",
   "metadata": {},
   "source": [
    "The packages can then be loaded."
   ]
  },
  {
   "cell_type": "code",
   "execution_count": 4,
   "metadata": {},
   "outputs": [],
   "source": [
    "using YAXArrays, Zarr\n",
    "using OnlineStats: Mean, value, fit!, nobs\n",
    "using YAXArrays.Cubes: cubesize, formatbytes"
   ]
  },
  {
   "cell_type": "markdown",
   "metadata": {},
   "source": [
    "## Access data cube\n",
    "\n",
    "For this demo, we rely on [mesogeos](https://zenodo.org/records/7741518), a Mediterranean data cube for the modelling & analysis of wildfires developed in DeepCube. It is stored on the cloud and directly accessible as an s3 bucket."
   ]
  },
  {
   "cell_type": "code",
   "execution_count": 5,
   "metadata": {},
   "outputs": [],
   "source": [
    "ENV[\"https_proxy\"]=\"http://proxy1.bgc-jena.mpg.de:3128\"\n",
    "ds = open_dataset(\"https://my-uc3-bucket.s3.gra.io.cloud.ovh.net/mesogeos.zarr\");"
   ]
  },
  {
   "cell_type": "code",
   "execution_count": 6,
   "metadata": {},
   "outputs": [
    {
     "name": "stdout",
     "output_type": "stream",
     "text": [
      "[:lst_night, :dem, :ignition_points, :lc_shrubland, :lc_forest, :lst_day, :d2m, :rh, :t2m, :wind_direction, :ndvi, :lc_water_bodies, :aspect, :lc_grassland, :ssrd, :burned_areas, :roads_distance, :lc_agriculture, :lai, :smi, :slope, :lc_settlement, :sp, :curvature, :spatial_ref, :lc_wetland, :population, :tp, :wind_speed, :lc_sparse_vegetation]"
     ]
    }
   ],
   "source": [
    "# show variables names\n",
    " print(keys(ds.cubes))"
   ]
  },
  {
   "cell_type": "markdown",
   "metadata": {},
   "source": [
    "The dataset contains 30 variables, which all have dimensions x (longitude) and y (latitude). Most of them also have a time dimension.\n",
    "\n",
    "We select one variable, `burned_areas`, to get information on the size of the cube and its chunking, that is, the way it is stored in compressed files."
   ]
  },
  {
   "cell_type": "code",
   "execution_count": 7,
   "metadata": {},
   "outputs": [
    {
     "name": "stdout",
     "output_type": "stream",
     "text": [
      "Data cube size: (4714, 1752, 6026)\n",
      "Number of chunks: (1, 1, 6026)\n"
     ]
    }
   ],
   "source": [
    "# get dimensions\n",
    "println(\"Data cube size: $(size(ds.burned_areas))\")\n",
    "# get chunks\n",
    "println(\"Number of chunks: $(size(ds.burned_areas.chunks))\")"
   ]
  },
  {
   "cell_type": "markdown",
   "metadata": {},
   "source": [
    "The dataset is chunked in a way most adapted for spatial analyses: each chunk contains data from one variable over its full spatial extent and only one time step.If we want to analyses more than one time step at a time, we have to load into memory as many chunks as time steps we want to analyse simultaneously. Even if our analysis focuses on a small spatial area, we have to load the full spatial extent into memory.\n",
    "\n",
    "Hence, for temporal analyses, it is more advisable to rechunk the dataset to chunks with a smaller spatial extent but with more time steps. \n",
    "\n",
    "## Rechunking\n",
    "\n",
    "The rechunking requires to first download the full dataset. It can then be done with YAXArrays.jl in two lines of code as shown below."
   ]
  },
  {
   "cell_type": "code",
   "execution_count": 8,
   "metadata": {},
   "outputs": [],
   "source": [
    "# # DO NOT RUN\n",
    "# dssub = ds[[:burned_areas,:net_ecosystem_exchange,:leaf_area_index]]\n",
    "\n",
    "# dschunked = setchunks(dssub,target_chunks)\n",
    "\n",
    "# savedataset(dschunked,path = \"/Net/Groups/BGI/work_3/scratch/fgans/DeepCube/UC3Cube_rechunked2.zarr\", max_cache=1e9, backend = :zarr,overwrite = false)\n",
    "# # max_cache determines the amount of memory to be used for rechunking, the larger this is, the faster the rechunking will go\n",
    "# # backend can be either :zarr or :netcdf\n",
    "# # setting overwrite=true will delete any existing dataset\n",
    "# # setting append=true will append the newly chunked variables to an existing data cube\n"
   ]
  },
  {
   "cell_type": "markdown",
   "metadata": {},
   "source": [
    "Once the dataset has been rechunked to serve our purpose, we can access it and perform our temporal analysis.\n",
    "\n",
    "## Temporal analysis\n",
    "\n",
    "Our demo aims to analyse to which extent the mean of a selection of variables are different inside and outside burnt areas. Therefore, we compute the difference between a variable mean over time and over a spatial moving window `(7, 7)` inside burnt areas and in their direct surroundings, that is, outside the burnt area but within the spatial window and over the duration of the fire event. Since most areas are never burnt, we do not need to compute the means at every location, but only where there was a fire. Hence, we first identify \"blobs\" of contiguous burnt areas in these spatial windows and process them one at a time. That is, we load in memory just the chunks intersecting the spatial window and the timesteps at which the area was burnt.\n",
    "\n",
    "<img src=\"figs/plot_event.png\" alt=\"plot_event\" width=\"800\"/>"
   ]
  },
  {
   "cell_type": "code",
   "execution_count": 9,
   "metadata": {},
   "outputs": [],
   "source": [
    "# Open the time series cube\n",
    "ds = open_dataset(\"/Net/Groups/BGI/work_3/scratch/fgans/DeepCube/UC3Cube_rechunked2.zarr\");"
   ]
  },
  {
   "cell_type": "markdown",
   "metadata": {},
   "source": [
    "We select six variables as potential predictors for our analysis of burnt areas: night and land surface temperature, elevation, forest and grass cover fractions and distance to nearest road.\n",
    "\n",
    "The total size of our uncompressed subdataset amounts to almost 1TB."
   ]
  },
  {
   "cell_type": "code",
   "execution_count": 10,
   "metadata": {},
   "outputs": [
    {
     "data": {
      "text/plain": [
       "\"927.07 GB\""
      ]
     },
     "execution_count": 10,
     "metadata": {},
     "output_type": "execute_result"
    }
   ],
   "source": [
    "# Select variables of interest\n",
    "burned_area = ds.burned_areas;\n",
    "preds = (\"lst_night\", \"lst_day\",\"dem\", \"lc_forest\", \"lc_grassland\", \"roads_distance\")\n",
    "possible_predictors = map(i->ds[Symbol(i)],preds);\n",
    "\n",
    "# Total uncompressed data size:\n",
    "formatbytes(sum(cubesize,(burned_area,possible_predictors...)))"
   ]
  },
  {
   "cell_type": "markdown",
   "metadata": {},
   "source": [
    "In the following code lines, we define the dimensions over which we are going to run our analysis, that is, a `(7, 7, 6026)` moving window centred on our output grid cell, for our target and predictor variables (unless the latter does not have a time dimension). The output dimensions are defined as the predictor variables. Because we used `MovingWindow` in the input dimensions, the output will have `\"x\"` and `\"y\"` dimensions as the input dataset."
   ]
  },
  {
   "cell_type": "code",
   "execution_count": 11,
   "metadata": {},
   "outputs": [
    {
     "data": {
      "text/plain": [
       "OutDims((YAXArrays.ByValue(Dim{:Variable, Vector{String}}([\"lst_night\", \"lst_day\", \"dem\", \"lc_forest\", \"lc_grassland\", \"roads_distance\"])),), :zarr, Base.Pairs{Symbol, Any, Tuple{Symbol, Symbol}, @NamedTuple{path::String, overwrite::Bool}}(:path => \"./output.zarr\", :overwrite => true), false, Array, :input, Float32)"
      ]
     },
     "execution_count": 11,
     "metadata": {},
     "output_type": "execute_result"
    }
   ],
   "source": [
    "indims_burnedarea = InDims(MovingWindow(\"x\",3,3), MovingWindow(\"y\",3,3), \"Time\", window_oob_value = 0.f0)\n",
    "indims_predictors = map(possible_predictors) do p\n",
    "    td = ndims(p) == 3 ? (\"Time\",) : ()\n",
    "    InDims(MovingWindow(\"x\",3,3), MovingWindow(\"y\",3,3), td..., window_oob_value = 0.f0)\n",
    "end\n",
    "\n",
    "outdims = OutDims(\n",
    "    Dim{:Variable}(collect(preds)), \n",
    "    outtype = Float32, \n",
    "    backend=:zarr,\n",
    "    path = \"./output.zarr\", \n",
    "    overwrite=true\n",
    ")\n"
   ]
  },
  {
   "cell_type": "markdown",
   "metadata": {},
   "source": [
    "We set up the job to be run on the cluster. The analysis is run on the MPI-BGC cluster but could be run on any cloud computing facility supporting Julia or docker containers.\n",
    "\n",
    "Therefore, we load two new Julia packages: `SlurmManager` to interact with the Slurm cluster and `Distributed`, which supports distributed computing. For some reason, on our partition for big data, the workers need to be spawned one at a time."
   ]
  },
  {
   "cell_type": "code",
   "execution_count": 12,
   "metadata": {},
   "outputs": [
    {
     "name": "stdout",
     "output_type": "stream",
     "text": [
      "connecting to worker 1 out of 20\n",
      "connecting to worker 2 out of 20\n",
      "connecting to worker 3 out of 20\n",
      "connecting to worker 4 out of 20\n",
      "connecting to worker 5 out of 20\n",
      "connecting to worker 6 out of 20\n",
      "connecting to worker 7 out of 20\n",
      "connecting to worker 8 out of 20\n",
      "connecting to worker 9 out of 20\n",
      "connecting to worker 10 out of 20\n",
      "connecting to worker 11 out of 20\n",
      "connecting to worker 12 out of 20\n",
      "connecting to worker 13 out of 20\n",
      "connecting to worker 14 out of 20\n",
      "connecting to worker 15 out of 20\n",
      "connecting to worker 16 out of 20\n",
      "connecting to worker 17 out of 20\n",
      "connecting to worker 18 out of 20\n",
      "connecting to worker 19 out of 20\n",
      "connecting to worker 20 out of 20\n"
     ]
    }
   ],
   "source": [
    "n_workers = 20\n",
    "threads_per_worker = 16\n",
    "#Get 20 workers with 32 cpus per worker\n",
    "using ClusterManagers: SlurmManager\n",
    "using Distributed\n",
    "addprocs(\n",
    "    SlurmManager(n_workers),\n",
    "    partition=\"big\",\n",
    "    mem_per_cpu=\"16GB\",\n",
    "    time=\"00:30:00\",\n",
    "    cpus_per_task=threads_per_worker,\n",
    "    exeflags=`--project=$(@__DIR__) -t $threads_per_worker --heap-size-hint=8GB`\n",
    ");"
   ]
  },
  {
   "cell_type": "markdown",
   "metadata": {},
   "source": [
    "Once the workers are spawned, we load the required packages and functions on all of them. [windowfire.jl](windowfire.jl) is the script that contains the functions `fire_boundaries_window!` and `process_event`, which are at the core of our analysis."
   ]
  },
  {
   "cell_type": "code",
   "execution_count": 13,
   "metadata": {},
   "outputs": [],
   "source": [
    "# Load code everywhere\n",
    "@everywhere begin\n",
    "    using YAXArrays, Zarr\n",
    "    using OnlineStats: Mean, value, fit!, nobs\n",
    "    include(\"windowfire.jl\")\n",
    "    Zarr.Blosc.set_num_threads($threads_per_worker)\n",
    "end"
   ]
  },
  {
   "cell_type": "markdown",
   "metadata": {},
   "source": [
    "The `fire_boundaries_window!` function is applied in parallel on the moving windows thanks to the `YAXArrays` function `mapCube`."
   ]
  },
  {
   "cell_type": "code",
   "execution_count": 14,
   "metadata": {},
   "outputs": [
    {
     "name": "stderr",
     "output_type": "stream",
     "text": [
      "\u001b[32mProgress:  99%|████████████████████████████████████████▊|  ETA: 0:00:03\u001b[39m"
     ]
    },
    {
     "name": "stdout",
     "output_type": "stream",
     "text": [
      "479.528242 seconds (23.81 M allocations: 2.600 GiB, 0.41% gc time, 3.34% compilation time)\n"
     ]
    },
    {
     "data": {
      "text/plain": [
       "4714×1752×6 YAXArray{Union{Missing, Float32},3}\u001b[90m with dimensions: \u001b[39m\n",
       "  \u001b[31mDim{\u001b[39m\u001b[33m:x\u001b[39m\u001b[31m}\u001b[39m Sampled{Float64} \u001b[36m-10.719097328696062:0.010068971773281372:36.73596663877905\u001b[39m ForwardOrdered Regular Points,\n",
       "  \u001b[31mDim{\u001b[39m\u001b[33m:y\u001b[39m\u001b[31m}\u001b[39m Sampled{Float64} \u001b[36m47.69923994531206:-0.01006897177328137:30.068470370296378\u001b[39m ReverseOrdered Regular Points,\n",
       "  \u001b[31mDim{\u001b[39m\u001b[33m:Variable\u001b[39m\u001b[31m}\u001b[39m Categorical{String} \u001b[36mString[lst_night, lst_day, …, lc_grassland, roads_distance]\u001b[39m Unordered\n",
       "Total size: 189.03 MB\n"
      ]
     },
     "execution_count": 14,
     "metadata": {},
     "output_type": "execute_result"
    }
   ],
   "source": [
    "@time mapCube(\n",
    "    fire_boundaries_window!, \n",
    "    (burned_area, possible_predictors...);\n",
    "    indims = (indims_burnedarea, indims_predictors...), \n",
    "    outdims = outdims,\n",
    "    max_cache=1e9,\n",
    ")"
   ]
  },
  {
   "cell_type": "markdown",
   "metadata": {},
   "source": [
    "Once the above code has been executed, the workers can be closed and the results can be plotted."
   ]
  },
  {
   "cell_type": "code",
   "execution_count": 15,
   "metadata": {},
   "outputs": [],
   "source": [
    "rmprocs(workers());"
   ]
  },
  {
   "cell_type": "markdown",
   "metadata": {},
   "source": [
    "## Visualisation\n",
    "\n",
    "The output data cube contains the differences between the averages inside and outside burnt areas in the direct surrounding (`(7, 7)` window) for the six possible predictor variables. It has no time dimension, only x and y.\n",
    "\n",
    "We can create maps of the output after loading plotting packages."
   ]
  },
  {
   "cell_type": "code",
   "execution_count": 2,
   "metadata": {},
   "outputs": [],
   "source": [
    "using CairoMakie, Makie, GeoMakie, PerceptualColourMaps\n",
    "using YAXArrays, Zarr\n",
    "using Statistics\n",
    "using HDF5"
   ]
  },
  {
   "cell_type": "code",
   "execution_count": 5,
   "metadata": {},
   "outputs": [
    {
     "data": {
      "text/plain": [
       "myfig! (generic function with 1 method)"
      ]
     },
     "execution_count": 5,
     "metadata": {},
     "output_type": "execute_result"
    }
   ],
   "source": [
    "if !isdir(\"./figs\")\n",
    "    mkdir(\"./figs\")\n",
    "end\n",
    "\n",
    "# output of moving windo demo\n",
    "ds = YAXArrays.open_dataset(\"/Net/Groups/BGI/people/fgans/DeepCube/FinalESDCdemo/output.zarr/\")\n",
    "\n",
    "preds = (\"lst_night\", \"lst_day\",\"dem\", \"lc_forest\", \"lc_grassland\", \"roads_distance\")\n",
    "possible_predictors = map(i->ds[Symbol(i)],preds);\n",
    "\n",
    "# units of the predictors, used in the legend of the maps\n",
    "units = (\"Temperature [Kelvin]\",\"Temperature [Kelvin]\",\"Elevation [m]\", \"Forest cover [%]\", \"Grass cover [%]\", \"Distance to nearest road [km]\")\n",
    "\n",
    "# coastlines\n",
    "fid = h5open(\"world_xm.h5\", \"r\")\n",
    "tmp = read(fid[\"world_10m\"])\n",
    "x1 = tmp[\"lon\"];\n",
    "y1 = tmp[\"lat\"];\n",
    "\n",
    "# colormap\n",
    "n = 128\n",
    "colormap = vcat(resample_cmap(:linear_kbc_5_95_c73_n256, n),\n",
    "    resample_cmap(Reverse(:linear_kryw_5_100_c67_n256), n))\n",
    "\n",
    "\n",
    "function myfig!(fig, lon, lat, data, q, units)\n",
    "    ax = GeoAxis(fig[1,1], limits=(extrema(lon), extrema(lat)))\n",
    "    s = surface!(ax, lon, lat, data; \n",
    "        colorrange=(-maximum(abs.(q)), maximum(abs.(q))),\n",
    "        highclip=:black,\n",
    "        lowclip=:grey8,\n",
    "        #colorscale = sc,\n",
    "        colormap, nan_color=:grey80,\n",
    "        shading=NoShading,\n",
    "    )\n",
    "    # coastlines\n",
    "    cl=lines!(ax, \n",
    "        # GeoMakie.coastlines(),\n",
    "        x1,y1,\n",
    "        color = :black, linewidth=0.85)\n",
    "    translate!(cl, 0, 0, 1000)\n",
    "    Colorbar(fig[1,2], s, label = units)\n",
    "    # remove gridlines\n",
    "    ax.xgridcolor[] = colorant\"transparent\";\n",
    "    ax.ygridcolor[] = colorant\"transparent\";\n",
    "    ax.xticklabelsvisible = false;\n",
    "    ax.yticklabelsvisible = false;\n",
    "    return(fig)\n",
    "end"
   ]
  },
  {
   "cell_type": "code",
   "execution_count": 6,
   "metadata": {},
   "outputs": [
    {
     "name": "stdout",
     "output_type": "stream",
     "text": [
      "q = Statistics.quantile(filter((i->begin\n",
      "                    #= In[6]:8 =#\n",
      "                    !(ismissing(i)) && !(isnan(i))\n",
      "                end), data), (0.1, 0.5, 0.9)) = (-1.267620551586151, 0.06263842806220055, 1.503210043907166)\n",
      "q = Statistics.quantile(filter((i->begin\n",
      "                    #= In[6]:8 =#\n",
      "                    !(ismissing(i)) && !(isnan(i))\n",
      "                end), data), (0.1, 0.5, 0.9)) = (-2.2361907958984375, -0.046473072841763496, 2.2471948862075806)\n",
      "q = Statistics.quantile(filter((i->begin\n",
      "                    #= In[6]:8 =#\n",
      "                    !(ismissing(i)) && !(isnan(i))\n",
      "                end), data), (0.1, 0.5, 0.9)) = (-86.05587768554688, 18.849763870239258, 175.43064575195314)\n",
      "q = Statistics.quantile(filter((i->begin\n",
      "                    #= In[6]:8 =#\n",
      "                    !(ismissing(i)) && !(isnan(i))\n",
      "                end), data), (0.1, 0.5, 0.9)) = (-0.16611215770244597, 0.007336815819144249, 0.3147680699825286)\n",
      "q = Statistics.quantile(filter((i->begin\n",
      "                    #= In[6]:8 =#\n",
      "                    !(ismissing(i)) && !(isnan(i))\n",
      "                end), data), (0.1, 0.5, 0.9)) = (-0.03973526060581207, 0.0, 0.1237825110554694)\n",
      "q = Statistics.quantile(filter((i->begin\n",
      "                    #= In[6]:8 =#\n",
      "                    !(ismissing(i)) && !(isnan(i))\n",
      "                end), data), (0.1, 0.5, 0.9)) = (-1.1488896369934083, 0.19418956339359283, 1.6811569213867186)\n"
     ]
    }
   ],
   "source": [
    "for i in 1:(length(possible_predictors))\n",
    "    fig = Figure(;size=(1200,600));\n",
    "    c = possible_predictors[i]\n",
    "    lon = lookup(c, :x)\n",
    "    lat = lookup(c, :y)\n",
    "    data = c.data[:,:];\n",
    "\n",
    "    @show q = Statistics.quantile(filter(i->!ismissing(i) && !isnan(i), data),(0.1,0.5,0.9))\n",
    "\n",
    "    fig = myfig!(fig, lon, lat, data, q, units[i])\n",
    "    Label(fig[1, 1:end, Top()], \"Difference in average $(preds[i]) inside and outside burned areas\", fontsize=18, padding=(0, 6, 8, 0))\n",
    "\n",
    "    save(\"./figs/$(preds[i]).png\", fig)\n",
    "\n",
    "\n",
    "    # Distribution plot\n",
    "    tmp = vec(filter(i->!ismissing(i) && !isnan(i), data));\n",
    "    fig,ax, = violin(ones(size(tmp)...), tmp)\n",
    "    ax.ylabel = units[i];\n",
    "    ax.xgridcolor[] = colorant\"transparent\";\n",
    "    ax.xticklabelsvisible = false;\n",
    "    ax.xtickcolor[] = colorant\"transparent\";\n",
    "    save(\"./figs/$(preds[i])_violin.png\", fig)\n",
    "\n",
    "    # zoom on map\n",
    "    sc = c[x = 20.5 .. 23.5, y = 36 .. 38.5]\n",
    "    slon = lookup(sc, :x)\n",
    "    slat = lookup(sc, :y)\n",
    "    sdata = sc.data[:,:];\n",
    "    fig = Figure(;size=(500,500));\n",
    "    fig = myfig!(fig, slon, slat, sdata, q, units[i])\n",
    "    Label(fig[1, 1:end, Top()], \"Difference in average $(preds[i]) inside and outside burned areas\", fontsize=12, padding=(0, 6, 8, 0))\n",
    "    save(\"./figs/$(preds[i])_zoom.png\", fig)\n",
    "\n",
    "end\n"
   ]
  },
  {
   "cell_type": "code",
   "execution_count": null,
   "metadata": {},
   "outputs": [],
   "source": []
  }
 ],
 "metadata": {
  "kernelspec": {
   "display_name": "Julia 1.10.0",
   "language": "julia",
   "name": "julia-1.10"
  },
  "language_info": {
   "file_extension": ".jl",
   "mimetype": "application/julia",
   "name": "julia",
   "version": "1.10.0"
  }
 },
 "nbformat": 4,
 "nbformat_minor": 4
}
